{
  "nbformat": 4,
  "nbformat_minor": 0,
  "metadata": {
    "colab": {
      "provenance": [],
      "authorship_tag": "ABX9TyOgycSC8wYdA6uM5L01tG7q",
      "include_colab_link": true
    },
    "kernelspec": {
      "name": "python3",
      "display_name": "Python 3"
    },
    "language_info": {
      "name": "python"
    }
  },
  "cells": [
    {
      "cell_type": "markdown",
      "metadata": {
        "id": "view-in-github",
        "colab_type": "text"
      },
      "source": [
        "<a href=\"https://colab.research.google.com/github/mfilipak/BXBRASIL2025/blob/main/BX_BRASIL_HANDS_ON.ipynb\" target=\"_parent\"><img src=\"https://colab.research.google.com/assets/colab-badge.svg\" alt=\"Open In Colab\"/></a>"
      ]
    },
    {
      "cell_type": "markdown",
      "source": [
        "# COLAB NOTEBOOK DO EVENTO BX-BRASIL"
      ],
      "metadata": {
        "id": "Y_iAT05hv8Ev"
      }
    },
    {
      "cell_type": "markdown",
      "source": [
        "# 1 - USANDO A API NOTA CERTA."
      ],
      "metadata": {
        "id": "PCa9PCOjvtac"
      }
    },
    {
      "cell_type": "code",
      "execution_count": 2,
      "metadata": {
        "colab": {
          "base_uri": "https://localhost:8080/"
        },
        "id": "_UCj_6GASVPI",
        "outputId": "bebca544-aa10-40b8-967f-47992faca185"
      },
      "outputs": [
        {
          "output_type": "stream",
          "name": "stdout",
          "text": [
            "{'average_duration': 0.06768654330863252,\n",
            " 'data': [{'confidences': [{'confidence': 0.5184096693992615,\n",
            "                            'label': '22021000'},\n",
            "                           {'confidence': 0.03791089728474617,\n",
            "                            'label': '22011000'},\n",
            "                           {'confidence': 0.03218604251742363,\n",
            "                            'label': '22030000'},\n",
            "                           {'confidence': 0.02866430953145027,\n",
            "                            'label': '21069090'},\n",
            "                           {'confidence': 0.02776830829679966,\n",
            "                            'label': '22029900'}],\n",
            "           'label': '22021000'},\n",
            "          'Bebidas, líquidos alcoólicos e vinagres.Águas, incluindo as águas '\n",
            "          'minerais e as águas gaseificadas, adicionadas de açúcar ou de '\n",
            "          'outros edulcorantes ou aromatizadas e outras bebidas não '\n",
            "          'alcoólicas, exceto sucos (sumos) de fruta ou de produtos hortícolas '\n",
            "          'da posição 20.09.- Águas, incluindo as águas minerais e as águas '\n",
            "          'gaseificadas, adicionadas de açúcar ou de outros edulcorantes ou '\n",
            "          'aromatizadas'],\n",
            " 'duration': 0.05477762222290039,\n",
            " 'is_generating': False}\n"
          ]
        }
      ],
      "source": [
        "import requests\n",
        "\n",
        "url = \"https://afrac-ncm-demo.hf.space/api/predict\"\n",
        "\n",
        "payload = {\n",
        "    \"data\": [\"Coca-Cola PET 2l\"]\n",
        "}\n",
        "\n",
        "headers = {\n",
        "    \"Content-Type\": \"application/json\"\n",
        "}\n",
        "\n",
        "response = requests.post(url, json=payload, headers=headers)\n",
        "result = response.json()\n",
        "\n",
        "import pprint\n",
        "pprint.pprint(result)"
      ]
    },
    {
      "cell_type": "markdown",
      "source": [
        "# 2 - EXEMPLO PRÁTICO DE USO DE I.A NA GERAÇÃO DE CÓDIGO / DEBUG\n",
        "\n",
        "Em https://huggingface.co/spaces/AFRAC/NCM_DEMO você encontrará no rodapé da WebApp como interagir com a API. A sugestão padrão do Huggingface é essa aí abaixo.\n",
        "Como ocorreu um erro, eu conversei com o Gemini integrado ao COLAB (pelo menos é o que está integrado em fevereiro de 2025)."
      ],
      "metadata": {
        "id": "8S4op8iNx-Mr"
      }
    },
    {
      "cell_type": "code",
      "source": [
        "from gradio_client import Client\n",
        "\n",
        "client = Client(\"https://afrac-ncm-demo.hf.space/\")\n",
        "result = client.predict(\n",
        "\t\t\t\t\"Howdy!\",\t# str representing string value in 'DESCRIÇÃO' Textbox component\n",
        "\t\t\t\tapi_name=\"/predict\"\n",
        ")\n",
        "print(result)"
      ],
      "metadata": {
        "id": "QoKdZ40ntCVI",
        "colab": {
          "base_uri": "https://localhost:8080/",
          "height": 422
        },
        "outputId": "2a8f96e8-1fe1-4fd5-d9cd-d6bc4a9616a1"
      },
      "execution_count": 3,
      "outputs": [
        {
          "output_type": "error",
          "ename": "ModuleNotFoundError",
          "evalue": "No module named 'gradio_client'",
          "traceback": [
            "\u001b[0;31m---------------------------------------------------------------------------\u001b[0m",
            "\u001b[0;31mModuleNotFoundError\u001b[0m                       Traceback (most recent call last)",
            "\u001b[0;32m<ipython-input-3-be01c08bbcf5>\u001b[0m in \u001b[0;36m<cell line: 0>\u001b[0;34m()\u001b[0m\n\u001b[0;32m----> 1\u001b[0;31m \u001b[0;32mfrom\u001b[0m \u001b[0mgradio_client\u001b[0m \u001b[0;32mimport\u001b[0m \u001b[0mClient\u001b[0m\u001b[0;34m\u001b[0m\u001b[0;34m\u001b[0m\u001b[0m\n\u001b[0m\u001b[1;32m      2\u001b[0m \u001b[0;34m\u001b[0m\u001b[0m\n\u001b[1;32m      3\u001b[0m \u001b[0mclient\u001b[0m \u001b[0;34m=\u001b[0m \u001b[0mClient\u001b[0m\u001b[0;34m(\u001b[0m\u001b[0;34m\"https://afrac-ncm-demo.hf.space/\"\u001b[0m\u001b[0;34m)\u001b[0m\u001b[0;34m\u001b[0m\u001b[0;34m\u001b[0m\u001b[0m\n\u001b[1;32m      4\u001b[0m result = client.predict(\n\u001b[1;32m      5\u001b[0m                                 \u001b[0;34m\"Howdy!\"\u001b[0m\u001b[0;34m,\u001b[0m       \u001b[0;31m# str representing string value in 'DESCRIÇÃO' Textbox component\u001b[0m\u001b[0;34m\u001b[0m\u001b[0;34m\u001b[0m\u001b[0m\n",
            "\u001b[0;31mModuleNotFoundError\u001b[0m: No module named 'gradio_client'",
            "",
            "\u001b[0;31m---------------------------------------------------------------------------\u001b[0;32m\nNOTE: If your import is failing due to a missing package, you can\nmanually install dependencies using either !pip or !apt.\n\nTo view examples of installing some common dependencies, click the\n\"Open Examples\" button below.\n\u001b[0;31m---------------------------------------------------------------------------\u001b[0m\n"
          ],
          "errorDetails": {
            "actions": [
              {
                "action": "open_url",
                "actionText": "Open Examples",
                "url": "/notebooks/snippets/importing_libraries.ipynb"
              }
            ]
          }
        }
      ]
    },
    {
      "cell_type": "markdown",
      "source": [
        "![image.png](data:image/png;base64,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)"
      ],
      "metadata": {
        "id": "FLYUcBl_0TDo"
      }
    },
    {
      "cell_type": "code",
      "source": [
        "#Basicamente o mesmo código usado anteriormente.\n",
        "import requests\n",
        "import pprint\n",
        "\n",
        "url = \"https://afrac-ncm-demo.hf.space/api/predict\"\n",
        "\n",
        "payload = {\n",
        "    \"data\": [\"Howdy!\"]  # Substitua pelo texto desejado\n",
        "}\n",
        "\n",
        "headers = {\n",
        "    \"Content-Type\": \"application/json\"\n",
        "}\n",
        "\n",
        "response = requests.post(url, json=payload, headers=headers)\n",
        "result = response.json()\n",
        "\n",
        "pprint.pprint(result)"
      ],
      "metadata": {
        "colab": {
          "base_uri": "https://localhost:8080/"
        },
        "id": "UNEff5oTzesH",
        "outputId": "33bacb28-b91c-4f89-9d70-87b075884dbb"
      },
      "execution_count": null,
      "outputs": [
        {
          "output_type": "stream",
          "name": "stdout",
          "text": [
            "{'average_duration': 0.0676882606055709,\n",
            " 'data': [{'confidences': [{'confidence': 0.41126593947410583,\n",
            "                            'label': '49019900'},\n",
            "                           {'confidence': 0.06514250487089157,\n",
            "                            'label': '21069090'},\n",
            "                           {'confidence': 0.05665813386440277,\n",
            "                            'label': '49029000'},\n",
            "                           {'confidence': 0.023258838802576065,\n",
            "                            'label': '19059090'},\n",
            "                           {'confidence': 0.021930279210209846,\n",
            "                            'label': '49011000'}],\n",
            "           'label': '49019900'},\n",
            "          'Livros, jornais, gravuras e outros produtos das indústrias '\n",
            "          'gráficas; textos manuscritos ou datilografados, planos e '\n",
            "          'plantas.Livros, brochuras e impressos semelhantes, mesmo em folhas '\n",
            "          'soltas.- Outros:-- Outros'],\n",
            " 'duration': 0.0708160400390625,\n",
            " 'is_generating': False}\n"
          ]
        }
      ]
    },
    {
      "cell_type": "code",
      "source": [],
      "metadata": {
        "id": "aoCr9F8B1L0I"
      },
      "execution_count": null,
      "outputs": []
    },
    {
      "cell_type": "markdown",
      "source": [
        "# 3 - Rodando um modelo localmente"
      ],
      "metadata": {
        "id": "yXKE2g8L5BHF"
      }
    },
    {
      "cell_type": "code",
      "source": [
        "#Os comentários foram gerados pelo Gemini\n",
        "\n",
        "\n",
        "import tensorflow as tf         # TensorFlow para aprendizado de máquina.\n",
        "import os                       # Funções para interagir com o sistema operacional.\n",
        "import pandas as pd             # Pandas para manipulação e análise de dados.\n",
        "import numpy as np              # NumPy para computação numérica com arrays.\n",
        "from sklearn.preprocessing import OneHotEncoder  # OneHotEncoder para codificação one-hot.\n",
        "from tensorflow.keras.preprocessing.text import Tokenizer  # Tokenizer para tokenizar texto.\n",
        "import time                     # Funções relacionadas ao tempo."
      ],
      "metadata": {
        "id": "OrNDnb9d_q-W"
      },
      "execution_count": 56,
      "outputs": []
    },
    {
      "cell_type": "code",
      "source": [
        "if os.path.exists('NCM_DEMO.h5'):\n",
        "  model = tf.keras.models.load_model('NCM_DEMO.h5', compile=False)\n",
        "else:\n",
        "  print('O arquivo NCM_DEMO.H5 não foi encontrado na pasta corrente. Baixe o arquivo e tente novamente')"
      ],
      "metadata": {
        "id": "f5MAqpLM5KIW"
      },
      "execution_count": 38,
      "outputs": []
    },
    {
      "cell_type": "code",
      "source": [
        "model.summary()"
      ],
      "metadata": {
        "colab": {
          "base_uri": "https://localhost:8080/",
          "height": 967
        },
        "id": "eTtAdqZj5OJd",
        "outputId": "c1d625f2-ae18-497d-f4e5-47a29e198d10"
      },
      "execution_count": 33,
      "outputs": [
        {
          "output_type": "display_data",
          "data": {
            "text/plain": [
              "\u001b[1mModel: \"model_1\"\u001b[0m\n"
            ],
            "text/html": [
              "<pre style=\"white-space:pre;overflow-x:auto;line-height:normal;font-family:Menlo,'DejaVu Sans Mono',consolas,'Courier New',monospace\"><span style=\"font-weight: bold\">Model: \"model_1\"</span>\n",
              "</pre>\n"
            ]
          },
          "metadata": {}
        },
        {
          "output_type": "display_data",
          "data": {
            "text/plain": [
              "┏━━━━━━━━━━━━━━━━━━━━━━━━━━━━━━━━━━━━━━┳━━━━━━━━━━━━━━━━━━━━━━━━━━━━━┳━━━━━━━━━━━━━━━━━┓\n",
              "┃\u001b[1m \u001b[0m\u001b[1mLayer (type)                        \u001b[0m\u001b[1m \u001b[0m┃\u001b[1m \u001b[0m\u001b[1mOutput Shape               \u001b[0m\u001b[1m \u001b[0m┃\u001b[1m \u001b[0m\u001b[1m        Param #\u001b[0m\u001b[1m \u001b[0m┃\n",
              "┡━━━━━━━━━━━━━━━━━━━━━━━━━━━━━━━━━━━━━━╇━━━━━━━━━━━━━━━━━━━━━━━━━━━━━╇━━━━━━━━━━━━━━━━━┩\n",
              "│ input (\u001b[38;5;33mInputLayer\u001b[0m)                   │ (\u001b[38;5;45mNone\u001b[0m, \u001b[38;5;34m120\u001b[0m)                 │               \u001b[38;5;34m0\u001b[0m │\n",
              "├──────────────────────────────────────┼─────────────────────────────┼─────────────────┤\n",
              "│ embedding_1 (\u001b[38;5;33mEmbedding\u001b[0m)              │ (\u001b[38;5;45mNone\u001b[0m, \u001b[38;5;34m120\u001b[0m, \u001b[38;5;34m106\u001b[0m)            │          \u001b[38;5;34m11,342\u001b[0m │\n",
              "├──────────────────────────────────────┼─────────────────────────────┼─────────────────┤\n",
              "│ conv1d_7 (\u001b[38;5;33mConv1D\u001b[0m)                    │ (\u001b[38;5;45mNone\u001b[0m, \u001b[38;5;34m114\u001b[0m, \u001b[38;5;34m128\u001b[0m)            │          \u001b[38;5;34m95,104\u001b[0m │\n",
              "├──────────────────────────────────────┼─────────────────────────────┼─────────────────┤\n",
              "│ activation_7 (\u001b[38;5;33mActivation\u001b[0m)            │ (\u001b[38;5;45mNone\u001b[0m, \u001b[38;5;34m114\u001b[0m, \u001b[38;5;34m128\u001b[0m)            │               \u001b[38;5;34m0\u001b[0m │\n",
              "├──────────────────────────────────────┼─────────────────────────────┼─────────────────┤\n",
              "│ max_pooling1d_3 (\u001b[38;5;33mMaxPooling1D\u001b[0m)       │ (\u001b[38;5;45mNone\u001b[0m, \u001b[38;5;34m57\u001b[0m, \u001b[38;5;34m128\u001b[0m)             │               \u001b[38;5;34m0\u001b[0m │\n",
              "├──────────────────────────────────────┼─────────────────────────────┼─────────────────┤\n",
              "│ conv1d_8 (\u001b[38;5;33mConv1D\u001b[0m)                    │ (\u001b[38;5;45mNone\u001b[0m, \u001b[38;5;34m51\u001b[0m, \u001b[38;5;34m256\u001b[0m)             │         \u001b[38;5;34m229,632\u001b[0m │\n",
              "├──────────────────────────────────────┼─────────────────────────────┼─────────────────┤\n",
              "│ activation_8 (\u001b[38;5;33mActivation\u001b[0m)            │ (\u001b[38;5;45mNone\u001b[0m, \u001b[38;5;34m51\u001b[0m, \u001b[38;5;34m256\u001b[0m)             │               \u001b[38;5;34m0\u001b[0m │\n",
              "├──────────────────────────────────────┼─────────────────────────────┼─────────────────┤\n",
              "│ max_pooling1d_4 (\u001b[38;5;33mMaxPooling1D\u001b[0m)       │ (\u001b[38;5;45mNone\u001b[0m, \u001b[38;5;34m25\u001b[0m, \u001b[38;5;34m256\u001b[0m)             │               \u001b[38;5;34m0\u001b[0m │\n",
              "├──────────────────────────────────────┼─────────────────────────────┼─────────────────┤\n",
              "│ conv1d_9 (\u001b[38;5;33mConv1D\u001b[0m)                    │ (\u001b[38;5;45mNone\u001b[0m, \u001b[38;5;34m19\u001b[0m, \u001b[38;5;34m512\u001b[0m)             │         \u001b[38;5;34m918,016\u001b[0m │\n",
              "├──────────────────────────────────────┼─────────────────────────────┼─────────────────┤\n",
              "│ activation_9 (\u001b[38;5;33mActivation\u001b[0m)            │ (\u001b[38;5;45mNone\u001b[0m, \u001b[38;5;34m19\u001b[0m, \u001b[38;5;34m512\u001b[0m)             │               \u001b[38;5;34m0\u001b[0m │\n",
              "├──────────────────────────────────────┼─────────────────────────────┼─────────────────┤\n",
              "│ max_pooling1d_5 (\u001b[38;5;33mMaxPooling1D\u001b[0m)       │ (\u001b[38;5;45mNone\u001b[0m, \u001b[38;5;34m9\u001b[0m, \u001b[38;5;34m512\u001b[0m)              │               \u001b[38;5;34m0\u001b[0m │\n",
              "├──────────────────────────────────────┼─────────────────────────────┼─────────────────┤\n",
              "│ conv1d_10 (\u001b[38;5;33mConv1D\u001b[0m)                   │ (\u001b[38;5;45mNone\u001b[0m, \u001b[38;5;34m7\u001b[0m, \u001b[38;5;34m512\u001b[0m)              │         \u001b[38;5;34m786,944\u001b[0m │\n",
              "├──────────────────────────────────────┼─────────────────────────────┼─────────────────┤\n",
              "│ activation_10 (\u001b[38;5;33mActivation\u001b[0m)           │ (\u001b[38;5;45mNone\u001b[0m, \u001b[38;5;34m7\u001b[0m, \u001b[38;5;34m512\u001b[0m)              │               \u001b[38;5;34m0\u001b[0m │\n",
              "├──────────────────────────────────────┼─────────────────────────────┼─────────────────┤\n",
              "│ conv1d_11 (\u001b[38;5;33mConv1D\u001b[0m)                   │ (\u001b[38;5;45mNone\u001b[0m, \u001b[38;5;34m5\u001b[0m, \u001b[38;5;34m512\u001b[0m)              │         \u001b[38;5;34m786,944\u001b[0m │\n",
              "├──────────────────────────────────────┼─────────────────────────────┼─────────────────┤\n",
              "│ activation_11 (\u001b[38;5;33mActivation\u001b[0m)           │ (\u001b[38;5;45mNone\u001b[0m, \u001b[38;5;34m5\u001b[0m, \u001b[38;5;34m512\u001b[0m)              │               \u001b[38;5;34m0\u001b[0m │\n",
              "├──────────────────────────────────────┼─────────────────────────────┼─────────────────┤\n",
              "│ conv1d_12 (\u001b[38;5;33mConv1D\u001b[0m)                   │ (\u001b[38;5;45mNone\u001b[0m, \u001b[38;5;34m3\u001b[0m, \u001b[38;5;34m512\u001b[0m)              │         \u001b[38;5;34m786,944\u001b[0m │\n",
              "├──────────────────────────────────────┼─────────────────────────────┼─────────────────┤\n",
              "│ activation_12 (\u001b[38;5;33mActivation\u001b[0m)           │ (\u001b[38;5;45mNone\u001b[0m, \u001b[38;5;34m3\u001b[0m, \u001b[38;5;34m512\u001b[0m)              │               \u001b[38;5;34m0\u001b[0m │\n",
              "├──────────────────────────────────────┼─────────────────────────────┼─────────────────┤\n",
              "│ conv1d_13 (\u001b[38;5;33mConv1D\u001b[0m)                   │ (\u001b[38;5;45mNone\u001b[0m, \u001b[38;5;34m1\u001b[0m, \u001b[38;5;34m512\u001b[0m)              │         \u001b[38;5;34m786,944\u001b[0m │\n",
              "├──────────────────────────────────────┼─────────────────────────────┼─────────────────┤\n",
              "│ activation_13 (\u001b[38;5;33mActivation\u001b[0m)           │ (\u001b[38;5;45mNone\u001b[0m, \u001b[38;5;34m1\u001b[0m, \u001b[38;5;34m512\u001b[0m)              │               \u001b[38;5;34m0\u001b[0m │\n",
              "├──────────────────────────────────────┼─────────────────────────────┼─────────────────┤\n",
              "│ flatten_1 (\u001b[38;5;33mFlatten\u001b[0m)                  │ (\u001b[38;5;45mNone\u001b[0m, \u001b[38;5;34m512\u001b[0m)                 │               \u001b[38;5;34m0\u001b[0m │\n",
              "├──────────────────────────────────────┼─────────────────────────────┼─────────────────┤\n",
              "│ dense_3 (\u001b[38;5;33mDense\u001b[0m)                      │ (\u001b[38;5;45mNone\u001b[0m, \u001b[38;5;34m256\u001b[0m)                 │         \u001b[38;5;34m131,328\u001b[0m │\n",
              "├──────────────────────────────────────┼─────────────────────────────┼─────────────────┤\n",
              "│ dropout_2 (\u001b[38;5;33mDropout\u001b[0m)                  │ (\u001b[38;5;45mNone\u001b[0m, \u001b[38;5;34m256\u001b[0m)                 │               \u001b[38;5;34m0\u001b[0m │\n",
              "├──────────────────────────────────────┼─────────────────────────────┼─────────────────┤\n",
              "│ dense_4 (\u001b[38;5;33mDense\u001b[0m)                      │ (\u001b[38;5;45mNone\u001b[0m, \u001b[38;5;34m256\u001b[0m)                 │          \u001b[38;5;34m65,792\u001b[0m │\n",
              "├──────────────────────────────────────┼─────────────────────────────┼─────────────────┤\n",
              "│ dropout_3 (\u001b[38;5;33mDropout\u001b[0m)                  │ (\u001b[38;5;45mNone\u001b[0m, \u001b[38;5;34m256\u001b[0m)                 │               \u001b[38;5;34m0\u001b[0m │\n",
              "├──────────────────────────────────────┼─────────────────────────────┼─────────────────┤\n",
              "│ dense_5 (\u001b[38;5;33mDense\u001b[0m)                      │ (\u001b[38;5;45mNone\u001b[0m, \u001b[38;5;34m11284\u001b[0m)               │       \u001b[38;5;34m2,899,988\u001b[0m │\n",
              "└──────────────────────────────────────┴─────────────────────────────┴─────────────────┘\n"
            ],
            "text/html": [
              "<pre style=\"white-space:pre;overflow-x:auto;line-height:normal;font-family:Menlo,'DejaVu Sans Mono',consolas,'Courier New',monospace\">┏━━━━━━━━━━━━━━━━━━━━━━━━━━━━━━━━━━━━━━┳━━━━━━━━━━━━━━━━━━━━━━━━━━━━━┳━━━━━━━━━━━━━━━━━┓\n",
              "┃<span style=\"font-weight: bold\"> Layer (type)                         </span>┃<span style=\"font-weight: bold\"> Output Shape                </span>┃<span style=\"font-weight: bold\">         Param # </span>┃\n",
              "┡━━━━━━━━━━━━━━━━━━━━━━━━━━━━━━━━━━━━━━╇━━━━━━━━━━━━━━━━━━━━━━━━━━━━━╇━━━━━━━━━━━━━━━━━┩\n",
              "│ input (<span style=\"color: #0087ff; text-decoration-color: #0087ff\">InputLayer</span>)                   │ (<span style=\"color: #00d7ff; text-decoration-color: #00d7ff\">None</span>, <span style=\"color: #00af00; text-decoration-color: #00af00\">120</span>)                 │               <span style=\"color: #00af00; text-decoration-color: #00af00\">0</span> │\n",
              "├──────────────────────────────────────┼─────────────────────────────┼─────────────────┤\n",
              "│ embedding_1 (<span style=\"color: #0087ff; text-decoration-color: #0087ff\">Embedding</span>)              │ (<span style=\"color: #00d7ff; text-decoration-color: #00d7ff\">None</span>, <span style=\"color: #00af00; text-decoration-color: #00af00\">120</span>, <span style=\"color: #00af00; text-decoration-color: #00af00\">106</span>)            │          <span style=\"color: #00af00; text-decoration-color: #00af00\">11,342</span> │\n",
              "├──────────────────────────────────────┼─────────────────────────────┼─────────────────┤\n",
              "│ conv1d_7 (<span style=\"color: #0087ff; text-decoration-color: #0087ff\">Conv1D</span>)                    │ (<span style=\"color: #00d7ff; text-decoration-color: #00d7ff\">None</span>, <span style=\"color: #00af00; text-decoration-color: #00af00\">114</span>, <span style=\"color: #00af00; text-decoration-color: #00af00\">128</span>)            │          <span style=\"color: #00af00; text-decoration-color: #00af00\">95,104</span> │\n",
              "├──────────────────────────────────────┼─────────────────────────────┼─────────────────┤\n",
              "│ activation_7 (<span style=\"color: #0087ff; text-decoration-color: #0087ff\">Activation</span>)            │ (<span style=\"color: #00d7ff; text-decoration-color: #00d7ff\">None</span>, <span style=\"color: #00af00; text-decoration-color: #00af00\">114</span>, <span style=\"color: #00af00; text-decoration-color: #00af00\">128</span>)            │               <span style=\"color: #00af00; text-decoration-color: #00af00\">0</span> │\n",
              "├──────────────────────────────────────┼─────────────────────────────┼─────────────────┤\n",
              "│ max_pooling1d_3 (<span style=\"color: #0087ff; text-decoration-color: #0087ff\">MaxPooling1D</span>)       │ (<span style=\"color: #00d7ff; text-decoration-color: #00d7ff\">None</span>, <span style=\"color: #00af00; text-decoration-color: #00af00\">57</span>, <span style=\"color: #00af00; text-decoration-color: #00af00\">128</span>)             │               <span style=\"color: #00af00; text-decoration-color: #00af00\">0</span> │\n",
              "├──────────────────────────────────────┼─────────────────────────────┼─────────────────┤\n",
              "│ conv1d_8 (<span style=\"color: #0087ff; text-decoration-color: #0087ff\">Conv1D</span>)                    │ (<span style=\"color: #00d7ff; text-decoration-color: #00d7ff\">None</span>, <span style=\"color: #00af00; text-decoration-color: #00af00\">51</span>, <span style=\"color: #00af00; text-decoration-color: #00af00\">256</span>)             │         <span style=\"color: #00af00; text-decoration-color: #00af00\">229,632</span> │\n",
              "├──────────────────────────────────────┼─────────────────────────────┼─────────────────┤\n",
              "│ activation_8 (<span style=\"color: #0087ff; text-decoration-color: #0087ff\">Activation</span>)            │ (<span style=\"color: #00d7ff; text-decoration-color: #00d7ff\">None</span>, <span style=\"color: #00af00; text-decoration-color: #00af00\">51</span>, <span style=\"color: #00af00; text-decoration-color: #00af00\">256</span>)             │               <span style=\"color: #00af00; text-decoration-color: #00af00\">0</span> │\n",
              "├──────────────────────────────────────┼─────────────────────────────┼─────────────────┤\n",
              "│ max_pooling1d_4 (<span style=\"color: #0087ff; text-decoration-color: #0087ff\">MaxPooling1D</span>)       │ (<span style=\"color: #00d7ff; text-decoration-color: #00d7ff\">None</span>, <span style=\"color: #00af00; text-decoration-color: #00af00\">25</span>, <span style=\"color: #00af00; text-decoration-color: #00af00\">256</span>)             │               <span style=\"color: #00af00; text-decoration-color: #00af00\">0</span> │\n",
              "├──────────────────────────────────────┼─────────────────────────────┼─────────────────┤\n",
              "│ conv1d_9 (<span style=\"color: #0087ff; text-decoration-color: #0087ff\">Conv1D</span>)                    │ (<span style=\"color: #00d7ff; text-decoration-color: #00d7ff\">None</span>, <span style=\"color: #00af00; text-decoration-color: #00af00\">19</span>, <span style=\"color: #00af00; text-decoration-color: #00af00\">512</span>)             │         <span style=\"color: #00af00; text-decoration-color: #00af00\">918,016</span> │\n",
              "├──────────────────────────────────────┼─────────────────────────────┼─────────────────┤\n",
              "│ activation_9 (<span style=\"color: #0087ff; text-decoration-color: #0087ff\">Activation</span>)            │ (<span style=\"color: #00d7ff; text-decoration-color: #00d7ff\">None</span>, <span style=\"color: #00af00; text-decoration-color: #00af00\">19</span>, <span style=\"color: #00af00; text-decoration-color: #00af00\">512</span>)             │               <span style=\"color: #00af00; text-decoration-color: #00af00\">0</span> │\n",
              "├──────────────────────────────────────┼─────────────────────────────┼─────────────────┤\n",
              "│ max_pooling1d_5 (<span style=\"color: #0087ff; text-decoration-color: #0087ff\">MaxPooling1D</span>)       │ (<span style=\"color: #00d7ff; text-decoration-color: #00d7ff\">None</span>, <span style=\"color: #00af00; text-decoration-color: #00af00\">9</span>, <span style=\"color: #00af00; text-decoration-color: #00af00\">512</span>)              │               <span style=\"color: #00af00; text-decoration-color: #00af00\">0</span> │\n",
              "├──────────────────────────────────────┼─────────────────────────────┼─────────────────┤\n",
              "│ conv1d_10 (<span style=\"color: #0087ff; text-decoration-color: #0087ff\">Conv1D</span>)                   │ (<span style=\"color: #00d7ff; text-decoration-color: #00d7ff\">None</span>, <span style=\"color: #00af00; text-decoration-color: #00af00\">7</span>, <span style=\"color: #00af00; text-decoration-color: #00af00\">512</span>)              │         <span style=\"color: #00af00; text-decoration-color: #00af00\">786,944</span> │\n",
              "├──────────────────────────────────────┼─────────────────────────────┼─────────────────┤\n",
              "│ activation_10 (<span style=\"color: #0087ff; text-decoration-color: #0087ff\">Activation</span>)           │ (<span style=\"color: #00d7ff; text-decoration-color: #00d7ff\">None</span>, <span style=\"color: #00af00; text-decoration-color: #00af00\">7</span>, <span style=\"color: #00af00; text-decoration-color: #00af00\">512</span>)              │               <span style=\"color: #00af00; text-decoration-color: #00af00\">0</span> │\n",
              "├──────────────────────────────────────┼─────────────────────────────┼─────────────────┤\n",
              "│ conv1d_11 (<span style=\"color: #0087ff; text-decoration-color: #0087ff\">Conv1D</span>)                   │ (<span style=\"color: #00d7ff; text-decoration-color: #00d7ff\">None</span>, <span style=\"color: #00af00; text-decoration-color: #00af00\">5</span>, <span style=\"color: #00af00; text-decoration-color: #00af00\">512</span>)              │         <span style=\"color: #00af00; text-decoration-color: #00af00\">786,944</span> │\n",
              "├──────────────────────────────────────┼─────────────────────────────┼─────────────────┤\n",
              "│ activation_11 (<span style=\"color: #0087ff; text-decoration-color: #0087ff\">Activation</span>)           │ (<span style=\"color: #00d7ff; text-decoration-color: #00d7ff\">None</span>, <span style=\"color: #00af00; text-decoration-color: #00af00\">5</span>, <span style=\"color: #00af00; text-decoration-color: #00af00\">512</span>)              │               <span style=\"color: #00af00; text-decoration-color: #00af00\">0</span> │\n",
              "├──────────────────────────────────────┼─────────────────────────────┼─────────────────┤\n",
              "│ conv1d_12 (<span style=\"color: #0087ff; text-decoration-color: #0087ff\">Conv1D</span>)                   │ (<span style=\"color: #00d7ff; text-decoration-color: #00d7ff\">None</span>, <span style=\"color: #00af00; text-decoration-color: #00af00\">3</span>, <span style=\"color: #00af00; text-decoration-color: #00af00\">512</span>)              │         <span style=\"color: #00af00; text-decoration-color: #00af00\">786,944</span> │\n",
              "├──────────────────────────────────────┼─────────────────────────────┼─────────────────┤\n",
              "│ activation_12 (<span style=\"color: #0087ff; text-decoration-color: #0087ff\">Activation</span>)           │ (<span style=\"color: #00d7ff; text-decoration-color: #00d7ff\">None</span>, <span style=\"color: #00af00; text-decoration-color: #00af00\">3</span>, <span style=\"color: #00af00; text-decoration-color: #00af00\">512</span>)              │               <span style=\"color: #00af00; text-decoration-color: #00af00\">0</span> │\n",
              "├──────────────────────────────────────┼─────────────────────────────┼─────────────────┤\n",
              "│ conv1d_13 (<span style=\"color: #0087ff; text-decoration-color: #0087ff\">Conv1D</span>)                   │ (<span style=\"color: #00d7ff; text-decoration-color: #00d7ff\">None</span>, <span style=\"color: #00af00; text-decoration-color: #00af00\">1</span>, <span style=\"color: #00af00; text-decoration-color: #00af00\">512</span>)              │         <span style=\"color: #00af00; text-decoration-color: #00af00\">786,944</span> │\n",
              "├──────────────────────────────────────┼─────────────────────────────┼─────────────────┤\n",
              "│ activation_13 (<span style=\"color: #0087ff; text-decoration-color: #0087ff\">Activation</span>)           │ (<span style=\"color: #00d7ff; text-decoration-color: #00d7ff\">None</span>, <span style=\"color: #00af00; text-decoration-color: #00af00\">1</span>, <span style=\"color: #00af00; text-decoration-color: #00af00\">512</span>)              │               <span style=\"color: #00af00; text-decoration-color: #00af00\">0</span> │\n",
              "├──────────────────────────────────────┼─────────────────────────────┼─────────────────┤\n",
              "│ flatten_1 (<span style=\"color: #0087ff; text-decoration-color: #0087ff\">Flatten</span>)                  │ (<span style=\"color: #00d7ff; text-decoration-color: #00d7ff\">None</span>, <span style=\"color: #00af00; text-decoration-color: #00af00\">512</span>)                 │               <span style=\"color: #00af00; text-decoration-color: #00af00\">0</span> │\n",
              "├──────────────────────────────────────┼─────────────────────────────┼─────────────────┤\n",
              "│ dense_3 (<span style=\"color: #0087ff; text-decoration-color: #0087ff\">Dense</span>)                      │ (<span style=\"color: #00d7ff; text-decoration-color: #00d7ff\">None</span>, <span style=\"color: #00af00; text-decoration-color: #00af00\">256</span>)                 │         <span style=\"color: #00af00; text-decoration-color: #00af00\">131,328</span> │\n",
              "├──────────────────────────────────────┼─────────────────────────────┼─────────────────┤\n",
              "│ dropout_2 (<span style=\"color: #0087ff; text-decoration-color: #0087ff\">Dropout</span>)                  │ (<span style=\"color: #00d7ff; text-decoration-color: #00d7ff\">None</span>, <span style=\"color: #00af00; text-decoration-color: #00af00\">256</span>)                 │               <span style=\"color: #00af00; text-decoration-color: #00af00\">0</span> │\n",
              "├──────────────────────────────────────┼─────────────────────────────┼─────────────────┤\n",
              "│ dense_4 (<span style=\"color: #0087ff; text-decoration-color: #0087ff\">Dense</span>)                      │ (<span style=\"color: #00d7ff; text-decoration-color: #00d7ff\">None</span>, <span style=\"color: #00af00; text-decoration-color: #00af00\">256</span>)                 │          <span style=\"color: #00af00; text-decoration-color: #00af00\">65,792</span> │\n",
              "├──────────────────────────────────────┼─────────────────────────────┼─────────────────┤\n",
              "│ dropout_3 (<span style=\"color: #0087ff; text-decoration-color: #0087ff\">Dropout</span>)                  │ (<span style=\"color: #00d7ff; text-decoration-color: #00d7ff\">None</span>, <span style=\"color: #00af00; text-decoration-color: #00af00\">256</span>)                 │               <span style=\"color: #00af00; text-decoration-color: #00af00\">0</span> │\n",
              "├──────────────────────────────────────┼─────────────────────────────┼─────────────────┤\n",
              "│ dense_5 (<span style=\"color: #0087ff; text-decoration-color: #0087ff\">Dense</span>)                      │ (<span style=\"color: #00d7ff; text-decoration-color: #00d7ff\">None</span>, <span style=\"color: #00af00; text-decoration-color: #00af00\">11284</span>)               │       <span style=\"color: #00af00; text-decoration-color: #00af00\">2,899,988</span> │\n",
              "└──────────────────────────────────────┴─────────────────────────────┴─────────────────┘\n",
              "</pre>\n"
            ]
          },
          "metadata": {}
        },
        {
          "output_type": "display_data",
          "data": {
            "text/plain": [
              "\u001b[1m Total params: \u001b[0m\u001b[38;5;34m7,498,978\u001b[0m (28.61 MB)\n"
            ],
            "text/html": [
              "<pre style=\"white-space:pre;overflow-x:auto;line-height:normal;font-family:Menlo,'DejaVu Sans Mono',consolas,'Courier New',monospace\"><span style=\"font-weight: bold\"> Total params: </span><span style=\"color: #00af00; text-decoration-color: #00af00\">7,498,978</span> (28.61 MB)\n",
              "</pre>\n"
            ]
          },
          "metadata": {}
        },
        {
          "output_type": "display_data",
          "data": {
            "text/plain": [
              "\u001b[1m Trainable params: \u001b[0m\u001b[38;5;34m7,498,978\u001b[0m (28.61 MB)\n"
            ],
            "text/html": [
              "<pre style=\"white-space:pre;overflow-x:auto;line-height:normal;font-family:Menlo,'DejaVu Sans Mono',consolas,'Courier New',monospace\"><span style=\"font-weight: bold\"> Trainable params: </span><span style=\"color: #00af00; text-decoration-color: #00af00\">7,498,978</span> (28.61 MB)\n",
              "</pre>\n"
            ]
          },
          "metadata": {}
        },
        {
          "output_type": "display_data",
          "data": {
            "text/plain": [
              "\u001b[1m Non-trainable params: \u001b[0m\u001b[38;5;34m0\u001b[0m (0.00 B)\n"
            ],
            "text/html": [
              "<pre style=\"white-space:pre;overflow-x:auto;line-height:normal;font-family:Menlo,'DejaVu Sans Mono',consolas,'Courier New',monospace\"><span style=\"font-weight: bold\"> Non-trainable params: </span><span style=\"color: #00af00; text-decoration-color: #00af00\">0</span> (0.00 B)\n",
              "</pre>\n"
            ]
          },
          "metadata": {}
        }
      ]
    },
    {
      "cell_type": "code",
      "source": [
        "# Carrega a tabela NCM de um arquivo CSV do GitHub, definindo \"CODIGO\" como índice.\n",
        "ncm_table = pd.read_csv(\"https://raw.githubusercontent.com/mfilipak/AFRAC_IA/main/DATASET/TABELA_NCM.CSV\", index_col=\"CODIGO\")\n",
        "\n",
        "# Filtra os NCMs válidos (maiores que 1.000.000) e os ordena.\n",
        "valid_ncms = sorted(ncm_table[ncm_table.index > 1000000].index)\n",
        "\n",
        "# Converte a lista de NCMs válidos em um array NumPy.\n",
        "ncmst = np.array(valid_ncms)\n",
        "# Remodela o array para ter uma única coluna.\n",
        "ncmst = ncmst.reshape([-1,1])\n",
        "\n",
        "# Cria um objeto OneHotEncoder para codificação one-hot.\n",
        "ohe = OneHotEncoder()\n",
        "# Ajusta o OneHotEncoder aos dados de NCM.\n",
        "ohe.fit(ncmst)\n",
        "\n",
        "# Cria um objeto Tokenizer para tokenizar texto em nível de caractere.\n",
        "tk = Tokenizer(num_words=None, char_level=True, oov_token='UNK')\n",
        "# Define o dicionário word_index do Tokenizer com tokens e seus índices.\n",
        "tk.word_index = {'UNK': 1, ' ': 2, 'a': 3, 'o': 4, 'e': 5, 'r': 6, 'i': 7, 'c': 8, 'l': 9, 's': 10, 't': 11, 'n': 12, 'm': 13, '0': 14, 'p': 15, 'g': 16, 'd': 17, 'u': 18, 'b': 19, '1': 20, 'f': 21, 'h': 22, '2': 23, '5': 24, 'v': 25, '3': 26, 'k': 27, '4': 28, '.': 29, 'x': 30, '6': 31, '8': 32, '-': 33, '7': 34, '9': 35, 'j': 36, 'z': 37, '/': 38, 'y': 39, 'q': 40, 'w': 41, ',': 42, ':': 43, '(': 44, ')': 45, '_': 46, '#': 47, '+': 48, '*': 49, '%': 50, '\"': 51, \"'\": 52, 'ç': 53, '&': 54, 'ã': 55, ';': 56, ']': 57, '[': 58, '$': 59, 'á': 60, '\\\\': 61, '|': 62, 'é': 63, 'º': 64, 'ó': 65, '!': 66, '=': 67, 'í': 68, 'ê': 69, '?': 70, '>': 71, '@': 72, '¿': 73, '°': 74, 'ú': 75, '\\xa0': 76, 'ô': 77, 'â': 78, '`': 79, 'à': 80, 'õ': 81, 'ï': 82, 'ª': 83, '²': 84, '{': 85, '<': 86, '~': 87, 'è': 88, '§': 89, 'ø': 90, 'ñ': 91, '³': 92, 'û': 93, 'ù': 94, '\\xad': 95, '}': 96, '\\x81': 97, 'ä': 98, 'ü': 99, '¶': 100, '^': 101, '€"
      ],
      "metadata": {
        "id": "4Bh6zS_R89NF"
      },
      "execution_count": 39,
      "outputs": []
    },
    {
      "cell_type": "code",
      "source": [
        "print(len(ncmst))\n",
        "ncmst"
      ],
      "metadata": {
        "colab": {
          "base_uri": "https://localhost:8080/"
        },
        "id": "02ciVu2zBTRO",
        "outputId": "6f375a52-6c9f-43df-c144-41edbef34d3d"
      },
      "execution_count": 64,
      "outputs": [
        {
          "output_type": "stream",
          "name": "stdout",
          "text": [
            "11284\n"
          ]
        },
        {
          "output_type": "execute_result",
          "data": {
            "text/plain": [
              "array([[ 1006109],\n",
              "       [ 1006301],\n",
              "       [ 1006302],\n",
              "       ...,\n",
              "       [97053900],\n",
              "       [97061000],\n",
              "       [97069000]])"
            ]
          },
          "metadata": {},
          "execution_count": 64
        }
      ]
    },
    {
      "cell_type": "code",
      "source": [
        "def PredictNCM(txt):\n",
        "    x = [txt[:120].lower() ]\n",
        "\n",
        "    #print(txt)\n",
        "\n",
        "    X = np.array(tk.texts_to_sequences([_+(120-len(_))*\" \" for _ in x]))\n",
        "    pred = model.predict(X, verbose=0)[0]\n",
        "    aux = np.argsort(pred)[::-1][:5]\n",
        "    return {f\"{int(valid_ncms[i]):08}\":float(pred[i]) for i in aux}, ncm_table.loc[valid_ncms[aux[0]],\"DESCRICAO\"]\n"
      ],
      "metadata": {
        "id": "JXspxC2t90Qt"
      },
      "execution_count": 43,
      "outputs": []
    },
    {
      "cell_type": "code",
      "source": [
        "pprint.pprint(PredictNCM(\"Coca-Cola\"))"
      ],
      "metadata": {
        "colab": {
          "base_uri": "https://localhost:8080/"
        },
        "id": "E2_h9CWlCTTl",
        "outputId": "aab33436-a851-4d0c-f498-49734e03325e"
      },
      "execution_count": 78,
      "outputs": [
        {
          "output_type": "stream",
          "name": "stdout",
          "text": [
            "({'21069010': 0.03279051184654236,\n",
            "  '21069090': 0.07082244008779526,\n",
            "  '22011000': 0.06617753207683563,\n",
            "  '22021000': 0.4794245958328247,\n",
            "  '22030000': 0.04007643461227417},\n",
            " 'Bebidas, líquidos alcoólicos e vinagres.Águas, incluindo as águas minerais e '\n",
            " 'as águas gaseificadas, adicionadas de açúcar ou de outros edulcorantes ou '\n",
            " 'aromatizadas e outras bebidas não alcoólicas, exceto sucos (sumos) de fruta '\n",
            " 'ou de produtos hortícolas da posição 20.09.- Águas, incluindo as águas '\n",
            " 'minerais e as águas gaseificadas, adicionadas de açúcar ou de outros '\n",
            " 'edulcorantes ou aromatizadas')\n"
          ]
        }
      ]
    },
    {
      "cell_type": "code",
      "source": [
        "#Rodando de 1 em 1\n",
        "before = time.time()\n",
        "PredictNCM(\"Coca-Cola\")\n",
        "print(f\"{time.time()-before:.03}s por item.\")"
      ],
      "metadata": {
        "colab": {
          "base_uri": "https://localhost:8080/"
        },
        "id": "5HRShwWEBn-m",
        "outputId": "40694935-ddf9-4301-a06a-592424728239"
      },
      "execution_count": 79,
      "outputs": [
        {
          "output_type": "stream",
          "name": "stdout",
          "text": [
            "0.0858s por Coca-Cola\n"
          ]
        }
      ]
    },
    {
      "cell_type": "code",
      "source": [
        "txt = \"Coca-Cola\"\n",
        "x = [txt[:120].lower() ]\n",
        "X = np.array(tk.texts_to_sequences([_+(120-len(_))*\" \" for _ in x]*1000)) #Estamos gerando 1000 \"Coca-Cola\""
      ],
      "metadata": {
        "id": "0d_xxJ1u-NY9"
      },
      "execution_count": 49,
      "outputs": []
    },
    {
      "cell_type": "code",
      "source": [
        "before = time.time()\n",
        "model.predict(X, verbose=0)\n",
        "print(f\"{(time.time()-before)/1000:.03}s por item. Rodando em batch de 1000.\")"
      ],
      "metadata": {
        "colab": {
          "base_uri": "https://localhost:8080/"
        },
        "id": "5XEoLvf1-v0t",
        "outputId": "e6d1c492-6653-4059-b0cc-61502e746440"
      },
      "execution_count": 81,
      "outputs": [
        {
          "output_type": "stream",
          "name": "stdout",
          "text": [
            "0.00261s por item. Rodando em batch de 1000.\n"
          ]
        }
      ]
    },
    {
      "cell_type": "code",
      "source": [],
      "metadata": {
        "colab": {
          "base_uri": "https://localhost:8080/"
        },
        "id": "dZ-sRUgL-9cN",
        "outputId": "88500792-70d4-49ca-b840-4e7eefaf816b"
      },
      "execution_count": 52,
      "outputs": [
        {
          "output_type": "execute_result",
          "data": {
            "text/plain": [
              "array([[2.5863725e-10, 2.5655503e-10, 2.5604172e-10],\n",
              "       [2.5863728e-10, 2.5655505e-10, 2.5604177e-10],\n",
              "       [2.5863725e-10, 2.5655503e-10, 2.5604172e-10],\n",
              "       ...,\n",
              "       [2.5863728e-10, 2.5655505e-10, 2.5604177e-10],\n",
              "       [2.5863950e-10, 2.5655336e-10, 2.5604105e-10],\n",
              "       [2.5863953e-10, 2.5655339e-10, 2.5604108e-10]], dtype=float32)"
            ]
          },
          "metadata": {},
          "execution_count": 52
        }
      ]
    },
    {
      "cell_type": "code",
      "source": [],
      "metadata": {
        "id": "EH1BLR9p-_TN"
      },
      "execution_count": null,
      "outputs": []
    }
  ]
}