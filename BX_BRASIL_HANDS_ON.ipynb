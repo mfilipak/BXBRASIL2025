{
  "nbformat": 4,
  "nbformat_minor": 0,
  "metadata": {
    "colab": {
      "provenance": [],
      "authorship_tag": "ABX9TyNju6v+u3yQGZBMphGBv082",
      "include_colab_link": true
    },
    "kernelspec": {
      "name": "python3",
      "display_name": "Python 3"
    },
    "language_info": {
      "name": "python"
    }
  },
  "cells": [
    {
      "cell_type": "markdown",
      "metadata": {
        "id": "view-in-github",
        "colab_type": "text"
      },
      "source": [
        "<a href=\"https://colab.research.google.com/github/mfilipak/BXBRASIL2025/blob/main/BX_BRASIL_HANDS_ON.ipynb\" target=\"_parent\"><img src=\"https://colab.research.google.com/assets/colab-badge.svg\" alt=\"Open In Colab\"/></a>"
      ]
    },
    {
      "cell_type": "markdown",
      "source": [
        "# COLAB NOTEBOOK DO EVENTO BX-BRASIL"
      ],
      "metadata": {
        "id": "Y_iAT05hv8Ev"
      }
    },
    {
      "cell_type": "markdown",
      "source": [
        "# 1 - USANDO A API NOTA CERTA."
      ],
      "metadata": {
        "id": "PCa9PCOjvtac"
      }
    },
    {
      "cell_type": "code",
      "execution_count": 12,
      "metadata": {
        "colab": {
          "base_uri": "https://localhost:8080/"
        },
        "id": "_UCj_6GASVPI",
        "outputId": "51bcf5e1-7bc1-4537-d621-c61b7b377682"
      },
      "outputs": [
        {
          "output_type": "stream",
          "name": "stdout",
          "text": [
            "{'average_duration': 0.0676833050319562,\n",
            " 'data': [{'confidences': [{'confidence': 0.5184096693992615,\n",
            "                            'label': '22021000'},\n",
            "                           {'confidence': 0.03791089728474617,\n",
            "                            'label': '22011000'},\n",
            "                           {'confidence': 0.03218604251742363,\n",
            "                            'label': '22030000'},\n",
            "                           {'confidence': 0.02866430953145027,\n",
            "                            'label': '21069090'},\n",
            "                           {'confidence': 0.02776830829679966,\n",
            "                            'label': '22029900'}],\n",
            "           'label': '22021000'},\n",
            "          'Bebidas, líquidos alcoólicos e vinagres.Águas, incluindo as águas '\n",
            "          'minerais e as águas gaseificadas, adicionadas de açúcar ou de '\n",
            "          'outros edulcorantes ou aromatizadas e outras bebidas não '\n",
            "          'alcoólicas, exceto sucos (sumos) de fruta ou de produtos hortícolas '\n",
            "          'da posição 20.09.- Águas, incluindo as águas minerais e as águas '\n",
            "          'gaseificadas, adicionadas de açúcar ou de outros edulcorantes ou '\n",
            "          'aromatizadas'],\n",
            " 'duration': 0.0527193546295166,\n",
            " 'is_generating': False}\n"
          ]
        }
      ],
      "source": [
        "import requests\n",
        "\n",
        "url = \"https://afrac-ncm-demo.hf.space/api/predict\"\n",
        "\n",
        "payload = {\n",
        "    \"data\": [\"Coca-Cola PET 2l\"]\n",
        "}\n",
        "\n",
        "headers = {\n",
        "    \"Content-Type\": \"application/json\"\n",
        "}\n",
        "\n",
        "response = requests.post(url, json=payload, headers=headers)\n",
        "result = response.json()\n",
        "\n",
        "import pprint\n",
        "pprint.pprint(result)"
      ]
    },
    {
      "cell_type": "code",
      "source": [],
      "metadata": {
        "id": "QoKdZ40ntCVI"
      },
      "execution_count": null,
      "outputs": []
    }
  ]
}